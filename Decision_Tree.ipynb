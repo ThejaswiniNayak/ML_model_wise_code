{
  "nbformat": 4,
  "nbformat_minor": 0,
  "metadata": {
    "colab": {
      "provenance": []
    },
    "kernelspec": {
      "name": "python3",
      "display_name": "Python 3"
    },
    "language_info": {
      "name": "python"
    }
  },
  "cells": [
    {
      "cell_type": "markdown",
      "source": [
        "https://www.datacamp.com/tutorial/decision-tree-classification-python"
      ],
      "metadata": {
        "id": "hfiTDhO0PNID"
      }
    },
    {
      "cell_type": "markdown",
      "source": [
        "Decision tree Mathaamtics\n",
        "https://www.youtube.com/watch?v=-W0DnxQK1Eo\n",
        "\n",
        "Decision tree using ID3\n",
        "https://www.youtube.com/watch?v=coOTEc-0OGw\n",
        "\n",
        "Decision tree using Gini index\n",
        "https://www.youtube.com/watch?v=zNYdkpAcP-g"
      ],
      "metadata": {
        "id": "xcyoNeuUPNSs"
      }
    },
    {
      "cell_type": "markdown",
      "source": [
        "Decision tree clasifier"
      ],
      "metadata": {
        "id": "iYSdHZLQS_9o"
      }
    },
    {
      "cell_type": "code",
      "source": [
        "from sklearn.datasets import load_iris\n",
        "from sklearn.model_selection import cross_val_score\n",
        "from sklearn.tree import DecisionTreeClassifier\n",
        "clf = DecisionTreeClassifier(random_state=0)\n",
        "iris = load_iris()\n",
        "cross_val_score(clf, iris.data, iris.target, cv=10)"
      ],
      "metadata": {
        "colab": {
          "base_uri": "https://localhost:8080/"
        },
        "id": "Gk5Pc0B2QwAC",
        "outputId": "65b89be0-a92f-4e8e-ba72-7f63d6dbcd53"
      },
      "execution_count": 1,
      "outputs": [
        {
          "output_type": "execute_result",
          "data": {
            "text/plain": [
              "array([1.        , 0.93333333, 1.        , 0.93333333, 0.93333333,\n",
              "       0.86666667, 0.93333333, 1.        , 1.        , 1.        ])"
            ]
          },
          "metadata": {},
          "execution_count": 1
        }
      ]
    },
    {
      "cell_type": "markdown",
      "source": [
        "https://scikit-learn.org/stable/modules/generated/sklearn.tree.DecisionTreeClassifier.html"
      ],
      "metadata": {
        "id": "P-0_M8MQS55r"
      }
    },
    {
      "cell_type": "markdown",
      "source": [
        "Decision Tree Regressor"
      ],
      "metadata": {
        "id": "noXMoamgTHQ2"
      }
    },
    {
      "cell_type": "code",
      "source": [
        "from sklearn.datasets import load_diabetes\n",
        "from sklearn.model_selection import cross_val_score\n",
        "from sklearn.tree import DecisionTreeRegressor\n",
        "X, y = load_diabetes(return_X_y=True)\n",
        "regressor = DecisionTreeRegressor(random_state=0)\n",
        "cross_val_score(regressor, X, y, cv=10)"
      ],
      "metadata": {
        "colab": {
          "base_uri": "https://localhost:8080/"
        },
        "id": "h7YIMO4HRKtL",
        "outputId": "66e9bc65-f6b5-43f0-a511-1c56bcee565c"
      },
      "execution_count": 2,
      "outputs": [
        {
          "output_type": "execute_result",
          "data": {
            "text/plain": [
              "array([-0.39292219, -0.46749346,  0.02768473,  0.06441362, -0.50323135,\n",
              "        0.16437202,  0.11242982, -0.73798979, -0.30953155, -0.00137327])"
            ]
          },
          "metadata": {},
          "execution_count": 2
        }
      ]
    }
  ]
}
