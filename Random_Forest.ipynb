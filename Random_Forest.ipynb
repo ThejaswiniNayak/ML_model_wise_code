{
  "nbformat": 4,
  "nbformat_minor": 0,
  "metadata": {
    "colab": {
      "provenance": []
    },
    "kernelspec": {
      "name": "python3",
      "display_name": "Python 3"
    },
    "language_info": {
      "name": "python"
    }
  },
  "cells": [
    {
      "cell_type": "markdown",
      "source": [
        "https://www.youtube.com/watch?v=v6VJ2RO66Ag&list=RDCMUC7Fs-Fdpe0I8GYg3lboEuXw&index=7\n",
        "\n",
        "https://www.analyticsvidhya.com/blog/2021/06/understanding-random-forest/\n",
        "\n",
        "https://www.analyticsvidhya.com/blog/2015/11/quick-introduction-boosting-algorithms-machine-learning/\n",
        "\n",
        "https://www.analyticsvidhya.com/blog/2021/09/adaboost-algorithm-a-complete-guide-for-beginners/"
      ],
      "metadata": {
        "id": "k-jHSal4g85v"
      }
    },
    {
      "cell_type": "code",
      "source": [],
      "metadata": {
        "id": "r-owduR3g9Fj"
      },
      "execution_count": null,
      "outputs": []
    }
  ]
}