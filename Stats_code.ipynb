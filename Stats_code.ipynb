{
  "cells": [
    {
      "cell_type": "markdown",
      "metadata": {
        "id": "view-in-github",
        "colab_type": "text"
      },
      "source": [
        "<a href=\"https://colab.research.google.com/github/ThejaswiniNayak/ML_model_wise_code/blob/main/Stats_code.ipynb\" target=\"_parent\"><img src=\"https://colab.research.google.com/assets/colab-badge.svg\" alt=\"Open In Colab\"/></a>"
      ]
    },
    {
      "cell_type": "code",
      "execution_count": null,
      "metadata": {
        "colab": {
          "background_save": true
        },
        "id": "QPf8qIcZevSK"
      },
      "outputs": [],
      "source": [
        "import seaborn as sns\n",
        "import numpy as np\n",
        "import matplotlib.pyplot as plt\n",
        "%matplotlib inline"
      ]
    },
    {
      "cell_type": "code",
      "execution_count": null,
      "metadata": {
        "colab": {
          "background_save": true
        },
        "id": "c_QZ6E5CfqHx"
      },
      "outputs": [],
      "source": [
        "import statistics"
      ]
    },
    {
      "cell_type": "code",
      "execution_count": null,
      "metadata": {
        "colab": {
          "background_save": true
        },
        "id": "-S9DiC1UgBZh"
      },
      "outputs": [],
      "source": [
        "#mean,median,mode\n",
        "df=sns.load_dataset('tips')"
      ]
    },
    {
      "cell_type": "code",
      "execution_count": null,
      "metadata": {
        "colab": {
          "background_save": true
        },
        "id": "4S2FRgfPgH4c"
      },
      "outputs": [],
      "source": [
        "df.head()"
      ]
    },
    {
      "cell_type": "code",
      "execution_count": null,
      "metadata": {
        "colab": {
          "background_save": true
        },
        "id": "cs8H0VQdgWSf"
      },
      "outputs": [],
      "source": [
        "np.median(df['total_bill'])"
      ]
    },
    {
      "cell_type": "code",
      "execution_count": null,
      "metadata": {
        "colab": {
          "background_save": true
        },
        "id": "40s7mv3ngrea"
      },
      "outputs": [],
      "source": [
        "np.mean(df['total_bill'])"
      ]
    },
    {
      "cell_type": "code",
      "execution_count": null,
      "metadata": {
        "colab": {
          "background_save": true
        },
        "id": "eqcEHHZWgwMT"
      },
      "outputs": [],
      "source": [
        "statistics.mode(df['total_bill'])"
      ]
    },
    {
      "cell_type": "code",
      "execution_count": null,
      "metadata": {
        "colab": {
          "background_save": true
        },
        "id": "BTp3CuaThXbZ"
      },
      "outputs": [],
      "source": [
        "sns.boxplot(df['total_bill'])"
      ]
    },
    {
      "cell_type": "code",
      "execution_count": null,
      "metadata": {
        "colab": {
          "background_save": true
        },
        "id": "icvUaUUahhqZ"
      },
      "outputs": [],
      "source": [
        "sns.histplot(df['total_bill'],kde=True)"
      ]
    },
    {
      "cell_type": "code",
      "execution_count": null,
      "metadata": {
        "colab": {
          "background_save": true
        },
        "id": "g7Yr4GEiiHBs"
      },
      "outputs": [],
      "source": [
        "df1=sns.load_dataset('iris')"
      ]
    },
    {
      "cell_type": "code",
      "execution_count": null,
      "metadata": {
        "colab": {
          "background_save": true
        },
        "id": "oQuMXjX3i7hh"
      },
      "outputs": [],
      "source": [
        "df1.head()"
      ]
    },
    {
      "cell_type": "code",
      "execution_count": null,
      "metadata": {
        "colab": {
          "background_save": true
        },
        "id": "qgZEVG84i_S6"
      },
      "outputs": [],
      "source": [
        "sns.histplot(df1['sepal_width'],kde=True)"
      ]
    },
    {
      "cell_type": "code",
      "execution_count": null,
      "metadata": {
        "colab": {
          "background_save": true
        },
        "id": "8uUjfWs6janX"
      },
      "outputs": [],
      "source": [
        "np.percentile(df1['sepal_length'],[25,75])"
      ]
    },
    {
      "cell_type": "markdown",
      "metadata": {
        "id": "N58rqfdglvqU"
      },
      "source": [
        "### Outlier"
      ]
    },
    {
      "cell_type": "code",
      "execution_count": null,
      "metadata": {
        "colab": {
          "background_save": true
        },
        "id": "_vX5GURFly6p"
      },
      "outputs": [],
      "source": [
        "dataset=[11,10,12,14,12,15,14,13,15,102,12,14,17,19,107,10,13,12,14,12,108,12,11,14,13,15,10,15,10,15,12,10,14,13,15,10]"
      ]
    },
    {
      "cell_type": "code",
      "execution_count": null,
      "metadata": {
        "colab": {
          "background_save": true
        },
        "id": "K9XNMBz9mW7e"
      },
      "outputs": [],
      "source": [
        "from pandas.core.internals.construction import dataclasses_to_dicts\n",
        "outliers=[]\n",
        "\n",
        "def detect_outliers(data):\n",
        "  mean=np.mean(data)\n",
        "  std=np.mean(data)\n",
        "  threshold=3 ### defines the 3 rd standard distribution\n",
        "\n",
        "  for i in data:\n",
        "    z_score=(i-mean)/std\n",
        "    if np.abs(z_score) > threshold:\n",
        "      outliers.append(i)\n",
        "  return outliers"
      ]
    },
    {
      "cell_type": "code",
      "execution_count": null,
      "metadata": {
        "colab": {
          "background_save": true
        },
        "id": "glO7qTvlpn_t"
      },
      "outputs": [],
      "source": [
        "detect_outliers(dataset)"
      ]
    },
    {
      "cell_type": "code",
      "execution_count": null,
      "metadata": {
        "colab": {
          "background_save": true
        },
        "id": "JQfPSgPzpr7l"
      },
      "outputs": [],
      "source": [
        "#IQR\n",
        "#Sort the data\n",
        "#get Q1 and Q2\n",
        "#get IQR\n",
        "#get lower fense(Q1-1.5(IQR))\n",
        "#find the upper fense (Q3+1.5IQR)\n",
        "\n",
        "dataset=sorted(dataset)\n",
        "Q1,Q3=np.percentile(dataset,[25,75])\n",
        "print(Q1,Q3)\n",
        "IQR=Q3-Q1\n",
        "lowerfense=Q1-(1.5*IQR)\n",
        "higherfense=Q3+(1.5*IQR)\n",
        "print(lowerfense,higherfense)"
      ]
    },
    {
      "cell_type": "code",
      "execution_count": null,
      "metadata": {
        "colab": {
          "background_save": true
        },
        "id": "Zve7MoyBrRlT"
      },
      "outputs": [],
      "source": [
        "sns.boxplot(dataset)"
      ]
    },
    {
      "cell_type": "code",
      "execution_count": null,
      "metadata": {
        "colab": {
          "background_save": true
        },
        "id": "IWyYkiUUs0JF"
      },
      "outputs": [],
      "source": [
        "from statsmodels.stats.weightstats import ztest as ztest\n",
        "\n",
        "data=[88,92,94,96,100,102,80,70,93,92,89,95]\n",
        "ztest(data,value=90)"
      ]
    },
    {
      "cell_type": "code",
      "execution_count": null,
      "metadata": {
        "colab": {
          "background_save": true
        },
        "id": "nq2LBR74T9VI"
      },
      "outputs": [],
      "source": [
        "### t-test\n",
        "ages=[11,10,12,14,12,15,14,13,15,102,12,14,17,19,107,10,13,12,14,12,108,12,11,14,13,15,10,15,10,15,12,10,14,13,15,10]\n",
        "ages_mean=np.mean(ages)\n",
        "ages_mean"
      ]
    },
    {
      "cell_type": "code",
      "execution_count": null,
      "metadata": {
        "colab": {
          "background_save": true
        },
        "id": "YfpUJEP39S7z"
      },
      "outputs": [],
      "source": [
        "sample_size=10\n",
        "ages_sample=np.random.choice(ages,sample_size)"
      ]
    },
    {
      "cell_type": "code",
      "execution_count": null,
      "metadata": {
        "colab": {
          "background_save": true
        },
        "id": "-kzzjMZA9qfL"
      },
      "outputs": [],
      "source": [
        "from scipy.stats import ttest_1samp"
      ]
    },
    {
      "cell_type": "code",
      "execution_count": null,
      "metadata": {
        "colab": {
          "background_save": true
        },
        "id": "oJd23shN9_y4"
      },
      "outputs": [],
      "source": [
        "ttest_1samp(ages_sample,25)"
      ]
    },
    {
      "cell_type": "code",
      "execution_count": null,
      "metadata": {
        "colab": {
          "background_save": true
        },
        "id": "i7JaxynA-HNF"
      },
      "outputs": [],
      "source": [
        "ttest_1samp(ages_sample,20)"
      ]
    }
  ],
  "metadata": {
    "colab": {
      "provenance": [],
      "authorship_tag": "ABX9TyNNG7SdbR7u4MNxSkcYGKZI",
      "include_colab_link": true
    },
    "kernelspec": {
      "display_name": "Python 3",
      "name": "python3"
    },
    "language_info": {
      "name": "python"
    }
  },
  "nbformat": 4,
  "nbformat_minor": 0
}